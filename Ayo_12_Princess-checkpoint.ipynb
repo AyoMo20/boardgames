{
 "cells": [
  {
   "cell_type": "raw",
   "metadata": {},
   "source": [
    "Instructions:\n",
    "Read the file and use the NLTK library to tokenize each word in the text. \n",
    "After using the code to load and tokenizing each word, \n",
    "then remove the punctuation and filler words (stopwords) from the list of tokens. \n",
    "Lastly, get the top 10 words from the text."
   ]
  },
  {
   "cell_type": "code",
   "execution_count": 1,
   "metadata": {},
   "outputs": [],
   "source": [
    "text = '''\n",
    "\n",
    "There was a king who had twelve beautiful daughters. They slept in\n",
    "twelve beds all in one room; and when they went to bed, the doors were\n",
    "shut and locked up; but every morning their shoes were found to be quite\n",
    "worn through as if they had been danced in all night; and yet nobody\n",
    "could find out how it happened, or where they had been.\n",
    "\n",
    "Then the king made it known to all the land, that if any person could\n",
    "discover the secret, and find out where it was that the princesses\n",
    "danced in the night, he should have the one he liked best for his\n",
    "wife, and should be king after his death; but whoever tried and did not\n",
    "succeed, after three days and nights, should be put to death.\n",
    "\n",
    "A king’s son soon came. He was well entertained, and in the evening was\n",
    "taken to the chamber next to the one where the princesses lay in their\n",
    "twelve beds. There he was to sit and watch where they went to dance;\n",
    "and, in order that nothing might pass without his hearing it, the door\n",
    "of his chamber was left open. But the king’s son soon fell asleep; and\n",
    "when he awoke in the morning he found that the princesses had all been\n",
    "dancing, for the soles of their shoes were full of holes. The same thing\n",
    "happened the second and third night: so the king ordered his head to be\n",
    "cut off. After him came several others; but they had all the same luck,\n",
    "and all lost their lives in the same manner.\n",
    "\n",
    "Now it chanced that an old soldier, who had been wounded in battle\n",
    "and could fight no longer, passed through the country where this king\n",
    "reigned: and as he was travelling through a wood, he met an old woman,\n",
    "who asked him where he was going. ‘I hardly know where I am going, or\n",
    "what I had better do,’ said the soldier; ‘but I think I should like very\n",
    "well to find out where it is that the princesses dance, and then in time\n",
    "I might be a king.’ ‘Well,’ said the old dame, ‘that is no very hard\n",
    "task: only take care not to drink any of the wine which one of the\n",
    "princesses will bring to you in the evening; and as soon as she leaves\n",
    "you pretend to be fast asleep.’\n",
    "\n",
    "Then she gave him a cloak, and said, ‘As soon as you put that on\n",
    "you will become invisible, and you will then be able to follow the\n",
    "princesses wherever they go.’ When the soldier heard all this good\n",
    "counsel, he determined to try his luck: so he went to the king, and said\n",
    "he was willing to undertake the task.\n",
    "\n",
    "He was as well received as the others had been, and the king ordered\n",
    "fine royal robes to be given him; and when the evening came he was led\n",
    "to the outer chamber. Just as he was going to lie down, the eldest of\n",
    "the princesses brought him a cup of wine; but the soldier threw it all\n",
    "away secretly, taking care not to drink a drop. Then he laid himself\n",
    "down on his bed, and in a little while began to snore very loud as if\n",
    "he was fast asleep. When the twelve princesses heard this they laughed\n",
    "heartily; and the eldest said, ‘This fellow too might have done a wiser\n",
    "thing than lose his life in this way!’ Then they rose up and opened\n",
    "their drawers and boxes, and took out all their fine clothes, and\n",
    "dressed themselves at the glass, and skipped about as if they were eager\n",
    "to begin dancing. But the youngest said, ‘I don’t know how it is, while\n",
    "you are so happy I feel very uneasy; I am sure some mischance will\n",
    "befall us.’ ‘You simpleton,’ said the eldest, ‘you are always afraid;\n",
    "have you forgotten how many kings’ sons have already watched in vain?\n",
    "And as for this soldier, even if I had not given him his sleeping\n",
    "draught, he would have slept soundly enough.’\n",
    "\n",
    "When they were all ready, they went and looked at the soldier; but he\n",
    "snored on, and did not stir hand or foot: so they thought they were\n",
    "quite safe; and the eldest went up to her own bed and clapped her hands,\n",
    "and the bed sank into the floor and a trap-door flew open. The soldier\n",
    "saw them going down through the trap-door one after another, the eldest\n",
    "leading the way; and thinking he had no time to lose, he jumped up, put\n",
    "on the cloak which the old woman had given him, and followed them;\n",
    "but in the middle of the stairs he trod on the gown of the youngest\n",
    "princess, and she cried out to her sisters, ‘All is not right; someone\n",
    "took hold of my gown.’ ‘You silly creature!’ said the eldest, ‘it is\n",
    "nothing but a nail in the wall.’ Then down they all went, and at the\n",
    "bottom they found themselves in a most delightful grove of trees; and\n",
    "the leaves were all of silver, and glittered and sparkled beautifully.\n",
    "The soldier wished to take away some token of the place; so he broke\n",
    "off a little branch, and there came a loud noise from the tree. Then the\n",
    "youngest daughter said again, ‘I am sure all is not right--did not you\n",
    "hear that noise? That never happened before.’ But the eldest said, ‘It\n",
    "is only our princes, who are shouting for joy at our approach.’\n",
    "\n",
    "Then they came to another grove of trees, where all the leaves were of\n",
    "gold; and afterwards to a third, where the leaves were all glittering\n",
    "diamonds. And the soldier broke a branch from each; and every time there\n",
    "was a loud noise, which made the youngest sister tremble with fear; but\n",
    "the eldest still said, it was only the princes, who were crying for joy.\n",
    "So they went on till they came to a great lake; and at the side of the\n",
    "lake there lay twelve little boats with twelve handsome princes in them,\n",
    "who seemed to be waiting there for the princesses.\n",
    "\n",
    "One of the princesses went into each boat, and the soldier stepped into\n",
    "the same boat with the youngest. As they were rowing over the lake, the\n",
    "prince who was in the boat with the youngest princess and the soldier\n",
    "said, ‘I do not know why it is, but though I am rowing with all my might\n",
    "we do not get on so fast as usual, and I am quite tired: the boat\n",
    "seems very heavy today.’ ‘It is only the heat of the weather,’ said the\n",
    "princess: ‘I feel it very warm too.’\n",
    "\n",
    "On the other side of the lake stood a fine illuminated castle, from\n",
    "which came the merry music of horns and trumpets. There they all landed,\n",
    "and went into the castle, and each prince danced with his princess; and\n",
    "the soldier, who was all the time invisible, danced with them too; and\n",
    "when any of the princesses had a cup of wine set by her, he drank it\n",
    "all up, so that when she put the cup to her mouth it was empty. At this,\n",
    "too, the youngest sister was terribly frightened, but the eldest always\n",
    "silenced her. They danced on till three o’clock in the morning, and then\n",
    "all their shoes were worn out, so that they were obliged to leave off.\n",
    "The princes rowed them back again over the lake (but this time the\n",
    "soldier placed himself in the boat with the eldest princess); and on the\n",
    "opposite shore they took leave of each other, the princesses promising\n",
    "to come again the next night.\n",
    "\n",
    "When they came to the stairs, the soldier ran on before the princesses,\n",
    "and laid himself down; and as the twelve sisters slowly came up very\n",
    "much tired, they heard him snoring in his bed; so they said, ‘Now all\n",
    "is quite safe’; then they undressed themselves, put away their fine\n",
    "clothes, pulled off their shoes, and went to bed. In the morning the\n",
    "soldier said nothing about what had happened, but determined to see more\n",
    "of this strange adventure, and went again the second and third night;\n",
    "and every thing happened just as before; the princesses danced each time\n",
    "till their shoes were worn to pieces, and then returned home. However,\n",
    "on the third night the soldier carried away one of the golden cups as a\n",
    "token of where he had been.\n",
    "\n",
    "As soon as the time came when he was to declare the secret, he was taken\n",
    "before the king with the three branches and the golden cup; and the\n",
    "twelve princesses stood listening behind the door to hear what he would\n",
    "say. And when the king asked him. ‘Where do my twelve daughters dance at\n",
    "night?’ he answered, ‘With twelve princes in a castle under ground.’ And\n",
    "then he told the king all that had happened, and showed him the three\n",
    "branches and the golden cup which he had brought with him. Then the king\n",
    "called for the princesses, and asked them whether what the soldier said\n",
    "was true: and when they saw that they were discovered, and that it was\n",
    "of no use to deny what had happened, they confessed it all. And the king\n",
    "asked the soldier which of them he would choose for his wife; and he\n",
    "answered, ‘I am not very young, so I will have the eldest.’--And they\n",
    "were married that very day, and the soldier was chosen to be the king’s\n",
    "heir.''' "
   ]
  },
  {
   "cell_type": "code",
   "execution_count": 2,
   "metadata": {},
   "outputs": [
    {
     "data": {
      "text/plain": [
       "8334"
      ]
     },
     "execution_count": 2,
     "metadata": {},
     "output_type": "execute_result"
    }
   ],
   "source": [
    "# the text, inclusive of white spaces and other features:\n",
    "len(text)"
   ]
  },
  {
   "cell_type": "raw",
   "metadata": {},
   "source": [
    "we need to clean unneccessary features from the text data to prepare for analysis for final result."
   ]
  },
  {
   "cell_type": "code",
   "execution_count": 3,
   "metadata": {},
   "outputs": [],
   "source": [
    "import nltk\n",
    "from nltk.tokenize import word_tokenize\n",
    "from nltk.tokenize import sent_tokenize\n",
    "from nltk.tokenize import TweetTokenizer\n",
    "from nltk.probability import FreqDist\n",
    "from nltk.corpus import stopwords\n",
    "from nltk.stem import WordNetLemmatizer\n",
    "from nltk.sentiment.vader import SentimentIntensityAnalyzer\n",
    "\n",
    "#this is data\n",
    "from nltk.corpus import names  \n",
    "\n",
    "from string import punctuation"
   ]
  },
  {
   "cell_type": "code",
   "execution_count": 4,
   "metadata": {},
   "outputs": [
    {
     "data": {
      "text/plain": [
       "'\\n\\nthere was a king who had twelve beautiful daughters. they slept in\\ntwelve beds all in one room; and when they went to bed, the doors were\\nshut and locked up; but every morning their shoes were found to be quite\\nworn through as if they had been danced in all night; and yet nobody\\ncould find out how it happened, or where they had been.\\n\\nthen the king made it known to all the land, that if any person could\\ndiscover the secret, and find out where it was that the princesses\\ndanced in the night, he should have the one he liked best for his\\nwife, and should be king after his death; but whoever tried and did not\\nsucceed, after three days and nights, should be put to death.\\n\\na king’s son soon came. he was well entertained, and in the evening was\\ntaken to the chamber next to the one where the princesses lay in their\\ntwelve beds. there he was to sit and watch where they went to dance;\\nand, in order that nothing might pass without his hearing it, the door\\nof his chamber was left open. but the king’s son soon fell asleep; and\\nwhen he awoke in the morning he found that the princesses had all been\\ndancing, for the soles of their shoes were full of holes. the same thing\\nhappened the second and third night: so the king ordered his head to be\\ncut off. after him came several others; but they had all the same luck,\\nand all lost their lives in the same manner.\\n\\nnow it chanced that an old soldier, who had been wounded in battle\\nand could fight no longer, passed through the country where this king\\nreigned: and as he was travelling through a wood, he met an old woman,\\nwho asked him where he was going. ‘i hardly know where i am going, or\\nwhat i had better do,’ said the soldier; ‘but i think i should like very\\nwell to find out where it is that the princesses dance, and then in time\\ni might be a king.’ ‘well,’ said the old dame, ‘that is no very hard\\ntask: only take care not to drink any of the wine which one of the\\nprincesses will bring to you in the evening; and as soon as she leaves\\nyou pretend to be fast asleep.’\\n\\nthen she gave him a cloak, and said, ‘as soon as you put that on\\nyou will become invisible, and you will then be able to follow the\\nprincesses wherever they go.’ when the soldier heard all this good\\ncounsel, he determined to try his luck: so he went to the king, and said\\nhe was willing to undertake the task.\\n\\nhe was as well received as the others had been, and the king ordered\\nfine royal robes to be given him; and when the evening came he was led\\nto the outer chamber. just as he was going to lie down, the eldest of\\nthe princesses brought him a cup of wine; but the soldier threw it all\\naway secretly, taking care not to drink a drop. then he laid himself\\ndown on his bed, and in a little while began to snore very loud as if\\nhe was fast asleep. when the twelve princesses heard this they laughed\\nheartily; and the eldest said, ‘this fellow too might have done a wiser\\nthing than lose his life in this way!’ then they rose up and opened\\ntheir drawers and boxes, and took out all their fine clothes, and\\ndressed themselves at the glass, and skipped about as if they were eager\\nto begin dancing. but the youngest said, ‘i don’t know how it is, while\\nyou are so happy i feel very uneasy; i am sure some mischance will\\nbefall us.’ ‘you simpleton,’ said the eldest, ‘you are always afraid;\\nhave you forgotten how many kings’ sons have already watched in vain?\\nand as for this soldier, even if i had not given him his sleeping\\ndraught, he would have slept soundly enough.’\\n\\nwhen they were all ready, they went and looked at the soldier; but he\\nsnored on, and did not stir hand or foot: so they thought they were\\nquite safe; and the eldest went up to her own bed and clapped her hands,\\nand the bed sank into the floor and a trap-door flew open. the soldier\\nsaw them going down through the trap-door one after another, the eldest\\nleading the way; and thinking he had no time to lose, he jumped up, put\\non the cloak which the old woman had given him, and followed them;\\nbut in the middle of the stairs he trod on the gown of the youngest\\nprincess, and she cried out to her sisters, ‘all is not right; someone\\ntook hold of my gown.’ ‘you silly creature!’ said the eldest, ‘it is\\nnothing but a nail in the wall.’ then down they all went, and at the\\nbottom they found themselves in a most delightful grove of trees; and\\nthe leaves were all of silver, and glittered and sparkled beautifully.\\nthe soldier wished to take away some token of the place; so he broke\\noff a little branch, and there came a loud noise from the tree. then the\\nyoungest daughter said again, ‘i am sure all is not right--did not you\\nhear that noise? that never happened before.’ but the eldest said, ‘it\\nis only our princes, who are shouting for joy at our approach.’\\n\\nthen they came to another grove of trees, where all the leaves were of\\ngold; and afterwards to a third, where the leaves were all glittering\\ndiamonds. and the soldier broke a branch from each; and every time there\\nwas a loud noise, which made the youngest sister tremble with fear; but\\nthe eldest still said, it was only the princes, who were crying for joy.\\nso they went on till they came to a great lake; and at the side of the\\nlake there lay twelve little boats with twelve handsome princes in them,\\nwho seemed to be waiting there for the princesses.\\n\\none of the princesses went into each boat, and the soldier stepped into\\nthe same boat with the youngest. as they were rowing over the lake, the\\nprince who was in the boat with the youngest princess and the soldier\\nsaid, ‘i do not know why it is, but though i am rowing with all my might\\nwe do not get on so fast as usual, and i am quite tired: the boat\\nseems very heavy today.’ ‘it is only the heat of the weather,’ said the\\nprincess: ‘i feel it very warm too.’\\n\\non the other side of the lake stood a fine illuminated castle, from\\nwhich came the merry music of horns and trumpets. there they all landed,\\nand went into the castle, and each prince danced with his princess; and\\nthe soldier, who was all the time invisible, danced with them too; and\\nwhen any of the princesses had a cup of wine set by her, he drank it\\nall up, so that when she put the cup to her mouth it was empty. at this,\\ntoo, the youngest sister was terribly frightened, but the eldest always\\nsilenced her. they danced on till three o’clock in the morning, and then\\nall their shoes were worn out, so that they were obliged to leave off.\\nthe princes rowed them back again over the lake (but this time the\\nsoldier placed himself in the boat with the eldest princess); and on the\\nopposite shore they took leave of each other, the princesses promising\\nto come again the next night.\\n\\nwhen they came to the stairs, the soldier ran on before the princesses,\\nand laid himself down; and as the twelve sisters slowly came up very\\nmuch tired, they heard him snoring in his bed; so they said, ‘now all\\nis quite safe’; then they undressed themselves, put away their fine\\nclothes, pulled off their shoes, and went to bed. in the morning the\\nsoldier said nothing about what had happened, but determined to see more\\nof this strange adventure, and went again the second and third night;\\nand every thing happened just as before; the princesses danced each time\\ntill their shoes were worn to pieces, and then returned home. however,\\non the third night the soldier carried away one of the golden cups as a\\ntoken of where he had been.\\n\\nas soon as the time came when he was to declare the secret, he was taken\\nbefore the king with the three branches and the golden cup; and the\\ntwelve princesses stood listening behind the door to hear what he would\\nsay. and when the king asked him. ‘where do my twelve daughters dance at\\nnight?’ he answered, ‘with twelve princes in a castle under ground.’ and\\nthen he told the king all that had happened, and showed him the three\\nbranches and the golden cup which he had brought with him. then the king\\ncalled for the princesses, and asked them whether what the soldier said\\nwas true: and when they saw that they were discovered, and that it was\\nof no use to deny what had happened, they confessed it all. and the king\\nasked the soldier which of them he would choose for his wife; and he\\nanswered, ‘i am not very young, so i will have the eldest.’--and they\\nwere married that very day, and the soldier was chosen to be the king’s\\nheir.'"
      ]
     },
     "execution_count": 4,
     "metadata": {},
     "output_type": "execute_result"
    }
   ],
   "source": [
    "#first, change all the words to lowercase\n",
    "\n",
    "wctext = text.lower()\n",
    "wctext"
   ]
  },
  {
   "cell_type": "code",
   "execution_count": 5,
   "metadata": {},
   "outputs": [],
   "source": [
    "# then tokenize each part of the text\n",
    "tknz_wct = word_tokenize(wctext)"
   ]
  },
  {
   "cell_type": "code",
   "execution_count": 6,
   "metadata": {},
   "outputs": [
    {
     "data": {
      "text/plain": [
       "1845"
      ]
     },
     "execution_count": 6,
     "metadata": {},
     "output_type": "execute_result"
    }
   ],
   "source": [
    "# the length of tokenized words (individual words) in the text and after removing all all white spaces\n",
    "len(tknz_wct)"
   ]
  },
  {
   "cell_type": "code",
   "execution_count": 7,
   "metadata": {},
   "outputs": [
    {
     "data": {
      "text/plain": [
       "'!\"#$%&\\'()*+,-./:;<=>?@[\\\\]^_`{|}~'"
      ]
     },
     "execution_count": 7,
     "metadata": {},
     "output_type": "execute_result"
    }
   ],
   "source": [
    "# the word tokens still have punctuations and stop words attached to them which need to be removed\n",
    "# view punctuations\n",
    "punctuation"
   ]
  },
  {
   "cell_type": "code",
   "execution_count": 8,
   "metadata": {},
   "outputs": [
    {
     "data": {
      "text/plain": [
       "32"
      ]
     },
     "execution_count": 8,
     "metadata": {},
     "output_type": "execute_result"
    }
   ],
   "source": [
    "len(punctuation)"
   ]
  },
  {
   "cell_type": "code",
   "execution_count": 9,
   "metadata": {},
   "outputs": [
    {
     "data": {
      "text/plain": [
       "['there', 'was', 'a', 'king', 'who']"
      ]
     },
     "execution_count": 9,
     "metadata": {},
     "output_type": "execute_result"
    }
   ],
   "source": [
    "#look at the first five tokens in the list\n",
    "tknz_wct[:5]"
   ]
  },
  {
   "cell_type": "code",
   "execution_count": 10,
   "metadata": {},
   "outputs": [
    {
     "data": {
      "text/plain": [
       "FreqDist({'the': 138, ',': 102, 'and': 78, 'to': 42, '.': 35, ';': 35, 'he': 33, 'they': 32, 'of': 28, '’': 27, ...})"
      ]
     },
     "execution_count": 10,
     "metadata": {},
     "output_type": "execute_result"
    }
   ],
   "source": [
    "##the NLTK FreqDist gives a count for how often each part of the text occurs\n",
    "fd_wct = FreqDist(tknz_wct)\n",
    "fd_wct"
   ]
  },
  {
   "cell_type": "code",
   "execution_count": 11,
   "metadata": {},
   "outputs": [
    {
     "data": {
      "text/plain": [
       "[('the', 138),\n",
       " (',', 102),\n",
       " ('and', 78),\n",
       " ('to', 42),\n",
       " ('.', 35),\n",
       " (';', 35),\n",
       " ('he', 33),\n",
       " ('they', 32),\n",
       " ('of', 28),\n",
       " ('’', 27)]"
      ]
     },
     "execution_count": 11,
     "metadata": {},
     "output_type": "execute_result"
    }
   ],
   "source": [
    "#shows the top 10 words in the text\n",
    "fd_wct.most_common(10)"
   ]
  },
  {
   "cell_type": "raw",
   "metadata": {},
   "source": [
    "The top ten parts of this text contain filler words and punctuation. We need to remove them to get a better understanding of what the text is about."
   ]
  },
  {
   "cell_type": "code",
   "execution_count": 12,
   "metadata": {},
   "outputs": [],
   "source": [
    "#remove the puntuation tokens from the list\n",
    "for token in tknz_wct:\n",
    "    if token in punctuation:\n",
    "        tknz_wct.remove(token)"
   ]
  },
  {
   "cell_type": "code",
   "execution_count": 13,
   "metadata": {},
   "outputs": [
    {
     "data": {
      "text/plain": [
       "1659"
      ]
     },
     "execution_count": 13,
     "metadata": {},
     "output_type": "execute_result"
    }
   ],
   "source": [
    "#number of tokens in list after puntuation removal\n",
    "len(tknz_wct)"
   ]
  },
  {
   "cell_type": "code",
   "execution_count": 14,
   "metadata": {
    "scrolled": false
   },
   "outputs": [
    {
     "data": {
      "text/plain": [
       "['i',\n",
       " 'me',\n",
       " 'my',\n",
       " 'myself',\n",
       " 'we',\n",
       " 'our',\n",
       " 'ours',\n",
       " 'ourselves',\n",
       " 'you',\n",
       " \"you're\",\n",
       " \"you've\",\n",
       " \"you'll\",\n",
       " \"you'd\",\n",
       " 'your',\n",
       " 'yours',\n",
       " 'yourself',\n",
       " 'yourselves',\n",
       " 'he',\n",
       " 'him',\n",
       " 'his',\n",
       " 'himself',\n",
       " 'she',\n",
       " \"she's\",\n",
       " 'her',\n",
       " 'hers',\n",
       " 'herself',\n",
       " 'it',\n",
       " \"it's\",\n",
       " 'its',\n",
       " 'itself',\n",
       " 'they',\n",
       " 'them',\n",
       " 'their',\n",
       " 'theirs',\n",
       " 'themselves',\n",
       " 'what',\n",
       " 'which',\n",
       " 'who',\n",
       " 'whom',\n",
       " 'this',\n",
       " 'that',\n",
       " \"that'll\",\n",
       " 'these',\n",
       " 'those',\n",
       " 'am',\n",
       " 'is',\n",
       " 'are',\n",
       " 'was',\n",
       " 'were',\n",
       " 'be',\n",
       " 'been',\n",
       " 'being',\n",
       " 'have',\n",
       " 'has',\n",
       " 'had',\n",
       " 'having',\n",
       " 'do',\n",
       " 'does',\n",
       " 'did',\n",
       " 'doing',\n",
       " 'a',\n",
       " 'an',\n",
       " 'the',\n",
       " 'and',\n",
       " 'but',\n",
       " 'if',\n",
       " 'or',\n",
       " 'because',\n",
       " 'as',\n",
       " 'until',\n",
       " 'while',\n",
       " 'of',\n",
       " 'at',\n",
       " 'by',\n",
       " 'for',\n",
       " 'with',\n",
       " 'about',\n",
       " 'against',\n",
       " 'between',\n",
       " 'into',\n",
       " 'through',\n",
       " 'during',\n",
       " 'before',\n",
       " 'after',\n",
       " 'above',\n",
       " 'below',\n",
       " 'to',\n",
       " 'from',\n",
       " 'up',\n",
       " 'down',\n",
       " 'in',\n",
       " 'out',\n",
       " 'on',\n",
       " 'off',\n",
       " 'over',\n",
       " 'under',\n",
       " 'again',\n",
       " 'further',\n",
       " 'then',\n",
       " 'once',\n",
       " 'here',\n",
       " 'there',\n",
       " 'when',\n",
       " 'where',\n",
       " 'why',\n",
       " 'how',\n",
       " 'all',\n",
       " 'any',\n",
       " 'both',\n",
       " 'each',\n",
       " 'few',\n",
       " 'more',\n",
       " 'most',\n",
       " 'other',\n",
       " 'some',\n",
       " 'such',\n",
       " 'no',\n",
       " 'nor',\n",
       " 'not',\n",
       " 'only',\n",
       " 'own',\n",
       " 'same',\n",
       " 'so',\n",
       " 'than',\n",
       " 'too',\n",
       " 'very',\n",
       " 's',\n",
       " 't',\n",
       " 'can',\n",
       " 'will',\n",
       " 'just',\n",
       " 'don',\n",
       " \"don't\",\n",
       " 'should',\n",
       " \"should've\",\n",
       " 'now',\n",
       " 'd',\n",
       " 'll',\n",
       " 'm',\n",
       " 'o',\n",
       " 're',\n",
       " 've',\n",
       " 'y',\n",
       " 'ain',\n",
       " 'aren',\n",
       " \"aren't\",\n",
       " 'couldn',\n",
       " \"couldn't\",\n",
       " 'didn',\n",
       " \"didn't\",\n",
       " 'doesn',\n",
       " \"doesn't\",\n",
       " 'hadn',\n",
       " \"hadn't\",\n",
       " 'hasn',\n",
       " \"hasn't\",\n",
       " 'haven',\n",
       " \"haven't\",\n",
       " 'isn',\n",
       " \"isn't\",\n",
       " 'ma',\n",
       " 'mightn',\n",
       " \"mightn't\",\n",
       " 'mustn',\n",
       " \"mustn't\",\n",
       " 'needn',\n",
       " \"needn't\",\n",
       " 'shan',\n",
       " \"shan't\",\n",
       " 'shouldn',\n",
       " \"shouldn't\",\n",
       " 'wasn',\n",
       " \"wasn't\",\n",
       " 'weren',\n",
       " \"weren't\",\n",
       " 'won',\n",
       " \"won't\",\n",
       " 'wouldn',\n",
       " \"wouldn't\"]"
      ]
     },
     "execution_count": 14,
     "metadata": {},
     "output_type": "execute_result"
    }
   ],
   "source": [
    "#list of english stopwords\n",
    "eng_stopwords = stopwords.words('english')\n",
    "eng_stopwords"
   ]
  },
  {
   "cell_type": "code",
   "execution_count": 15,
   "metadata": {},
   "outputs": [],
   "source": [
    "rm_count = 0\n",
    "new_words = []  #list to hold new words\n",
    "\n",
    "for token in tknz_wct:\n",
    "    if token not in eng_stopwords:\n",
    "        new_words.append(token)\n",
    "    else: rm_count += 1"
   ]
  },
  {
   "cell_type": "code",
   "execution_count": 16,
   "metadata": {},
   "outputs": [
    {
     "data": {
      "text/plain": [
       "943"
      ]
     },
     "execution_count": 16,
     "metadata": {},
     "output_type": "execute_result"
    }
   ],
   "source": [
    "rm_count"
   ]
  },
  {
   "cell_type": "code",
   "execution_count": 17,
   "metadata": {},
   "outputs": [
    {
     "data": {
      "text/plain": [
       "716"
      ]
     },
     "execution_count": 17,
     "metadata": {},
     "output_type": "execute_result"
    }
   ],
   "source": [
    "len(new_words)"
   ]
  },
  {
   "cell_type": "raw",
   "metadata": {},
   "source": [
    "Now let's see the new top 10 words in this text."
   ]
  },
  {
   "cell_type": "code",
   "execution_count": 18,
   "metadata": {},
   "outputs": [
    {
     "data": {
      "text/plain": [
       "[('’', 27),\n",
       " ('‘', 21),\n",
       " ('soldier', 19),\n",
       " ('princesses', 16),\n",
       " ('said', 16),\n",
       " ('king', 15),\n",
       " ('went', 11),\n",
       " ('twelve', 10),\n",
       " ('came', 10),\n",
       " ('eldest', 10)]"
      ]
     },
     "execution_count": 18,
     "metadata": {},
     "output_type": "execute_result"
    }
   ],
   "source": [
    "fd_nw = FreqDist(new_words)\n",
    "fd_nw.most_common(10)"
   ]
  },
  {
   "cell_type": "code",
   "execution_count": 19,
   "metadata": {},
   "outputs": [
    {
     "data": {
      "text/plain": [
       "'!\"#$%&\\'()*+,-./:;<=>?@[\\\\]^_`{|}~’‘'"
      ]
     },
     "execution_count": 19,
     "metadata": {},
     "output_type": "execute_result"
    }
   ],
   "source": [
    "# add excluded punctuation to list of punctuations\n",
    "new_punct = punctuation + '’' + '‘'\n",
    "new_punct"
   ]
  },
  {
   "cell_type": "code",
   "execution_count": 20,
   "metadata": {},
   "outputs": [],
   "source": [
    "rm_count1 = 0\n",
    "new_words1 = []  #list to hold new words\n",
    "\n",
    "for token in new_words:\n",
    "    if token not in new_punct:\n",
    "        new_words1.append(token)\n",
    "    else: rm_count1 += 1"
   ]
  },
  {
   "cell_type": "code",
   "execution_count": 21,
   "metadata": {},
   "outputs": [
    {
     "data": {
      "text/plain": [
       "49"
      ]
     },
     "execution_count": 21,
     "metadata": {},
     "output_type": "execute_result"
    }
   ],
   "source": [
    "rm_count1"
   ]
  },
  {
   "cell_type": "code",
   "execution_count": 22,
   "metadata": {},
   "outputs": [
    {
     "data": {
      "text/plain": [
       "667"
      ]
     },
     "execution_count": 22,
     "metadata": {},
     "output_type": "execute_result"
    }
   ],
   "source": [
    "len(new_words1)"
   ]
  },
  {
   "cell_type": "code",
   "execution_count": 23,
   "metadata": {},
   "outputs": [
    {
     "data": {
      "text/plain": [
       "[('soldier', 19),\n",
       " ('princesses', 16),\n",
       " ('said', 16),\n",
       " ('king', 15),\n",
       " ('went', 11),\n",
       " ('twelve', 10),\n",
       " ('came', 10),\n",
       " ('eldest', 10),\n",
       " ('one', 7),\n",
       " ('night', 7)]"
      ]
     },
     "execution_count": 23,
     "metadata": {},
     "output_type": "execute_result"
    }
   ],
   "source": [
    "fd_nw1 = FreqDist(new_words1)\n",
    "fd_nw1.most_common(10)"
   ]
  }
 ],
 "metadata": {
  "kernelspec": {
   "display_name": "Python 3",
   "language": "python",
   "name": "python3"
  },
  "language_info": {
   "codemirror_mode": {
    "name": "ipython",
    "version": 3
   },
   "file_extension": ".py",
   "mimetype": "text/x-python",
   "name": "python",
   "nbconvert_exporter": "python",
   "pygments_lexer": "ipython3",
   "version": "3.7.6"
  }
 },
 "nbformat": 4,
 "nbformat_minor": 4
}
